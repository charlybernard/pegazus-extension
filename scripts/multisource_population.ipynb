{
 "cells": [
  {
   "cell_type": "markdown",
   "metadata": {},
   "source": [
    "# Variables"
   ]
  },
  {
   "cell_type": "markdown",
   "metadata": {},
   "source": [
    "## Import libraries"
   ]
  },
  {
   "cell_type": "code",
   "execution_count": null,
   "metadata": {},
   "outputs": [],
   "source": [
    "import os\n",
    "import sys\n",
    "from rdflib import URIRef, Literal"
   ]
  },
  {
   "cell_type": "markdown",
   "metadata": {},
   "source": [
    "### File and Folder Definitions\n",
    "\n",
    "This section defines various files and folders used in the process. These are divided into two categories:\n",
    "\n",
    "1. **Existing files**: These are pre-existing files that are part of the project and are used as input or reference files during the process.\n",
    "   - `ont_file_name`: The ontology file in Turtle format (`ontology.ttl`).\n",
    "   - `ruleset_file_name`: The ruleset file in the PIE format (`rules.pie`).\n",
    "\n",
    "2. **Created files during the process**: These are files generated during the execution of the process, and they are stored in the `tmp_folder`.\n",
    "   - `export_file_name`: Temporary exported data file in Turtle format (`addresses-temp.ttl`).\n",
    "   - `out_file_name`: Final output data file in Turtle format (`addresses.ttl`).\n",
    "   - `local_config_file_name`: Configuration file for the repository in Turtle format (`config_repo.ttl`).\n",
    "   - `facts_ttl_file_name`: File containing facts data in Turtle format (`facts_data.ttl`).\n",
    "   - `implicit_to_facts_ttl_file_name`: File containing implicit facts data in Turtle format (`implicit_to_facts.ttl`).\n",
    "\n",
    "3. **Existing folders**: These are folders that already exist and store files used in the project.\n",
    "   - `data_folder_name`: The folder containing the data files (`../data`).\n",
    "\n",
    "4. **Created folder during the process**: This is the folder created during the process to store temporary files.\n",
    "   - `tmp_folder_name`: Folder for temporary files during the process (`../tmp_files`).\n",
    "\n",
    "### GraphDB Repository Name\n",
    "- `facts_repository_name`: The name of the repository in GraphDB where the data is stored (`addresses_from_factoids`).\n",
    "\n",
    "### Named Graphs Definitions\n",
    "These are the names of the named graphs in the GraphDB repository.\n",
    "- `ontology_named_graph_name`: The named graph for the ontology (`ontology`).\n",
    "- `facts_named_graph_name`: The named graph for the facts data (`facts`).\n",
    "- `factoids_named_graph_name`: The named graph for the factoids data (`factoids`).\n",
    "- `permanent_named_graph_name`: The named graph for permanent data (`permanent`).\n",
    "- `tmp_named_graph_name`: The named graph for temporary data (`temporary`).\n",
    "- `inter_sources_name_graph_name`: The named graph for inter-sources data (`inter_sources`).\n",
    "\n",
    "### URIs to Access GraphDB\n",
    "- `str_graphdb_url`: The URL to access the local GraphDB instance (`http://localhost:7200`).\n",
    "\n",
    "### Code Folder Path\n",
    "- `py_code_folder_path`: The folder containing the Python code (`./code`).\n",
    "\n",
    "These variables are used throughout the process to refer to different files, folders, and named graphs in the GraphDB repository. They allow for a modular and flexible approach to handling the data and configuring the process steps.\n"
   ]
  },
  {
   "cell_type": "code",
   "execution_count": null,
   "metadata": {},
   "outputs": [],
   "source": [
    "# Existing files\n",
    "ont_file_name = \"ontology.ttl\"\n",
    "ruleset_file_name = \"rules.pie\"\n",
    "\n",
    "# Created files during process (in `tmp_folder`)\n",
    "export_file_name = \"addresses-temp.ttl\"\n",
    "out_file_name = \"addresses.ttl\"\n",
    "local_config_file_name = \"config_repo.ttl\"\n",
    "facts_ttl_file_name = \"facts_data.ttl\"\n",
    "implicit_to_facts_ttl_file_name = \"implicit_to_facts.ttl\"\n",
    "\n",
    "# Existing folders\n",
    "data_folder_name = \"../data\"\n",
    "\n",
    "# Created folder during process\n",
    "tmp_folder_name = \"../tmp_files\"\n",
    "\n",
    "# GraphDB repository name\n",
    "facts_repository_name = \"addresses_from_factoids\"\n",
    "\n",
    "# Definition of names of named graphes \n",
    "ontology_named_graph_name = \"ontology\"\n",
    "facts_named_graph_name = \"facts\"\n",
    "factoids_named_graph_name = \"factoids\"\n",
    "permanent_named_graph_name = \"permanent\"\n",
    "tmp_named_graph_name = \"temporary\"\n",
    "inter_sources_name_graph_name = \"inter_sources\"\n",
    "\n",
    "# URIs to access to GraphDB\n",
    "str_graphdb_url = \"http://localhost:7200\"\n",
    "\n",
    "py_code_folder_path = \"./code\""
   ]
  },
  {
   "cell_type": "markdown",
   "metadata": {},
   "source": [
    "## Processing Global Variables\n",
    "\n",
    "In this section, we define and process various global variables related to file paths and configurations used throughout the process. This includes:\n",
    "\n",
    "- **Obtaining absolute file paths**: Converts relative file paths, as defined in the previous section, into absolute paths. This ensures the program can correctly locate the files regardless of the current working directory.\n",
    "    - `tmp_folder`: The absolute path for the temporary folder used to store intermediate files (`tmp_folder_name`).\n",
    "    - `data_folder`: The absolute path for the folder containing the data files (`data_folder_name`).\n",
    "    - `python_code_folder`: The absolute path for the folder containing the Python code (`py_code_folder_path`).\n",
    "    - `local_config_file`: The absolute path for the local configuration file (`local_config_file_name`), located in the temporary folder.\n",
    "    - `ont_file`: The absolute path for the ontology file (`ont_file_name`).\n",
    "    - `ruleset_file`: The absolute path for the ruleset file (`ruleset_file_name`).\n",
    "    - `facts_ttl_file`: The absolute path for the facts data file (`facts_ttl_file_name`), located in the temporary folder.\n",
    "    - `implicit_to_facts_ttl_file`: The absolute path for the file containing implicit facts data (`implicit_to_facts_ttl_file_name`), located in the temporary folder.\n",
    "\n",
    "- **Creating a temporary folder**: If the folder specified by `tmp_folder_name` does not already exist, the program will create it to store files that are intended to be deleted after processing.\n",
    "\n",
    "- **Creating an RDFLib object for `graphdb_url`**: This step converts the string representing the GraphDB URL (`str_graphdb_url`) into an RDFLib `URIRef` object. This object can be used in RDF queries and updates to interact with the GraphDB instance.\n",
    "    - `graphdb_url`: An RDFLib `URIRef` representing the GraphDB URL (`str_graphdb_url`).\n",
    "\n",
    "These steps help to set up the working environment by ensuring that the necessary paths and configurations are ready for the process to begin.\n"
   ]
  },
  {
   "cell_type": "code",
   "execution_count": null,
   "metadata": {},
   "outputs": [],
   "source": [
    "tmp_folder = os.path.abspath(tmp_folder_name)\n",
    "data_folder = os.path.abspath(data_folder_name)\n",
    "\n",
    "python_code_folder = os.path.abspath(py_code_folder_path)\n",
    "\n",
    "local_config_file = os.path.join(tmp_folder, local_config_file_name)\n",
    "ont_file = os.path.abspath(ont_file_name)\n",
    "ruleset_file = os.path.abspath(ruleset_file_name)\n",
    "facts_ttl_file = os.path.join(tmp_folder, facts_ttl_file_name)\n",
    "implicit_to_facts_ttl_file = os.path.join(tmp_folder, implicit_to_facts_ttl_file_name)\n",
    "\n",
    "graphdb_url = URIRef(str_graphdb_url)"
   ]
  },
  {
   "cell_type": "markdown",
   "metadata": {},
   "source": [
    "## Importing Python Modules\n",
    "\n",
    "This section imports various Python modules used throughout the project. The following modules are imported from the `code` folder:\n",
    "\n",
    "- **file_management**: Provides functions for managing files, such as reading, writing, and manipulating file paths.\n",
    "- **graphdb**: Handles interactions with GraphDB, including querying, updating, and managing named graphs.\n",
    "- **graphrdf**: Likely used for handling RDF (Resource Description Framework) data and operations on graphs.\n",
    "- **attribute_version_comparisons**: Facilitates the comparison of different versions of attributes in the RDF data.\n",
    "- **multi_sources_processing**: Contains methods for processing data from multiple sources, likely aggregating or reconciling them.\n",
    "- **factoids_creation**: Includes functions for creating factoids, which are small pieces of information or data extracted or derived from sources.\n",
    "- **time_processing**: Likely used for managing and processing time-based data or timestamps.\n",
    "- **resource_transfert**: Handles the transfer of resources, possibly related to moving or copying data between systems or storage locations.\n",
    "- **evolution_construction**: Likely deals with constructing or evolving data models or entities over time.\n",
    "\n",
    "These modules provide the necessary functionality for managing files, interacting with a graph database, processing data, and performing other domain-specific tasks related to the project.\n"
   ]
  },
  {
   "cell_type": "code",
   "execution_count": null,
   "metadata": {},
   "outputs": [],
   "source": [
    "# Calling up the `code` folder contains the python codes\n",
    "sys.path.insert(1, python_code_folder)\n",
    "\n",
    "import file_management as fm\n",
    "import graphdb as gd\n",
    "import graphrdf as gr\n",
    "import attribute_version_comparisons as avc\n",
    "import multi_sources_processing as msp\n",
    "import factoids_creation as fc\n",
    "import time_processing as tp\n",
    "import resource_transfert as rt\n",
    "import evolution_construction as ec"
   ]
  },
  {
   "cell_type": "markdown",
   "metadata": {},
   "source": [
    "## Creation of folders if they don't exist"
   ]
  },
  {
   "cell_type": "code",
   "execution_count": null,
   "metadata": {},
   "outputs": [],
   "source": [
    "fm.create_folder_if_not_exists(tmp_folder)"
   ]
  },
  {
   "cell_type": "markdown",
   "metadata": {},
   "source": [
    "### Creating the local directory in GraphDB\n",
    "For the creation to work, GraphDB must be launched and therefore the URI given by `graphdb_url` must work. If the directory already exists, nothing is done.\n",
    "\n",
    "### Options\n",
    "\n",
    "- **`allow_removal`**: If set to `False`, the repository will not be removed during the reinitialization process. Instead, the repository will simply be emptied. This is useful in case the deletion of the repository fails, ensuring the directory is cleared without being deleted and recreated. \n",
    "- **`disable_same_as`**: When set to `True`, this option disables the use of `sameAs` in the reasoning process.\n",
    "\n",
    "### Creation Process\n",
    "\n",
    "The function `gd.reinitialize_repository` is used to reinitialize the repository. When called, it ensures the repository is set up according to the provided configurations (e.g., `local_config_file`, `ruleset_name`). If the repository already exists, it is reinitialized without removing it (if `allow_removal` is set to `False`).\n",
    "\n",
    "- **`graphdb_url`**: The URL pointing to the running GraphDB instance.\n",
    "- **`facts_repository_name`**: The name of the repository to be reinitialized.\n",
    "- **`local_config_file`**: The configuration file used to initialize the repository.\n",
    "- **`ruleset_name`**: The name of the ruleset to be used for reasoning, such as `\"owl2-rl-optimized\"`.\n",
    "- **`allow_removal`**: Controls whether the repository can be deleted and recreated (`False` will just empty it).\n",
    "\n",
    "For the creation of the repository to work, GraphDB must be running, and the provided `graphdb_url` must be valid. If the repository already exists, it will be reinitialized without further action.\n"
   ]
  },
  {
   "cell_type": "code",
   "execution_count": null,
   "metadata": {},
   "outputs": [],
   "source": [
    "# Il se peut que la suppression d'un répertoire ne fonctionne pas donc pour éviter la suppresion au moment de la réinitialisation (suppression + (re)création)\n",
    "# `allow_removal` doit valoir False et dans ce cas-là, le répertoire sera juste vidé.\n",
    "allow_removal = False\n",
    "disable_same_as = False\n",
    "\n",
    "gd.reinitialize_repository(graphdb_url, facts_repository_name, local_config_file, ruleset_name=\"owl2-rl-optimized\", disable_same_as=disable_same_as, allow_removal=allow_removal)\n",
    "# gd.reinitialize_repository(graphdb_url, facts_repository_name, local_config_file, ruleset_file=ruleset_file, disable_same_as=disable_same_as, allow_removal=allow_removal)"
   ]
  },
  {
   "cell_type": "markdown",
   "metadata": {},
   "source": [
    "## Local directory management"
   ]
  },
  {
   "cell_type": "markdown",
   "metadata": {},
   "source": [
    "## Importing ontologies"
   ]
  },
  {
   "cell_type": "code",
   "execution_count": null,
   "metadata": {},
   "outputs": [],
   "source": [
    "gd.load_ontologies(graphdb_url, facts_repository_name, [ont_file], ontology_named_graph_name)"
   ]
  },
  {
   "cell_type": "markdown",
   "metadata": {},
   "source": [
    "## Definition of variables linked to sources"
   ]
  },
  {
   "cell_type": "markdown",
   "metadata": {},
   "source": [
    "### Paris thoroughfares via Wikidata"
   ]
  },
  {
   "cell_type": "markdown",
   "metadata": {},
   "source": [
    "* `wd` for \"wikidata\"\n",
    "* `wdp_land` for \"wikidata paris landmarks\"\n",
    "* `wdp_loc` for \"wikidata paris locations\""
   ]
  },
  {
   "cell_type": "code",
   "execution_count": null,
   "metadata": {},
   "outputs": [],
   "source": [
    "# Name of the directory where the factoid triples of Wikidata data are stored and constructed\n",
    "wd_repository_name = \"factoids_wikidata\"\n",
    "\n",
    "# CSV file to store the result of the selection query\n",
    "wdp_land_csv_file_name = \"wd_paris_landmarks.csv\"\n",
    "wdp_land_csv_file = os.path.join(data_folder, wdp_land_csv_file_name)\n",
    "\n",
    "# CSV file to store the result of the selection query\n",
    "wdp_loc_csv_file_name = \"wd_paris_locations.csv\"\n",
    "wdp_loc_csv_file = os.path.join(data_folder, wdp_loc_csv_file_name)\n",
    "\n",
    "# TTL file for structuring knowledge of the Paris thoroughfares\n",
    "wdp_kg_file_name = \"wd_paris.ttl\"\n",
    "wdp_kg_file = os.path.join(tmp_folder, wdp_kg_file_name)\n",
    "\n",
    "# Final TTL files for Wikidata factoids\n",
    "wdp_factoids_kg_file_name = \"wd_paris_factoids.ttl\"\n",
    "wdp_factoids_kg_file = os.path.join(tmp_folder, wdp_factoids_kg_file_name)\n",
    "wdp_permanent_kg_file_name = \"wd_paris_permanent.ttl\"\n",
    "wdp_permanent_kg_file = os.path.join(tmp_folder, wdp_permanent_kg_file_name)\n",
    "\n",
    "# Time interval of validity of the source (there is not end time)\n",
    "wdp_valid_time = {\n",
    "    \"start_time\" : {\"stamp\":\"2024-08-26T00:00:00Z\",\"precision\":\"day\",\"calendar\":\"gregorian\"}\n",
    "    }"
   ]
  },
  {
   "cell_type": "markdown",
   "metadata": {},
   "source": [
    "### Nomenclature of Paris thoroughfares (Ville de Paris data)"
   ]
  },
  {
   "cell_type": "markdown",
   "metadata": {},
   "source": [
    "The City of Paris data is made up of two sets:\n",
    "* [names of current street rights-of-way](https://opendata.paris.fr/explore/dataset/denominations-emprises-voies-actuelles)\n",
    "* [obsolete street names](https://opendata.paris.fr/explore/dataset/denominations-des-voies-caduques)\n",
    "\n",
    "Current roads have a geometric right of way, unlike the old thoroughfares.\n",
    "\n",
    "* `vpt` for ‘ville paris thoroughfares’\n",
    "* `vpta` for ‘ville paris thoroughfares actuelles’.\n",
    "* `vptc` for ‘ville paris thoroughfares caduques’."
   ]
  },
  {
   "cell_type": "code",
   "execution_count": null,
   "metadata": {},
   "outputs": [],
   "source": [
    "# Name of the directory where the factoid triples of Ville de Paris data are stored and constructed\n",
    "vpt_repository_name = \"factoids_ville_de_paris\"\n",
    "\n",
    "# CSV files containting data\n",
    "vpta_csv_file_name = \"denominations-emprises-voies-actuelles.csv\"\n",
    "vpta_csv_file = os.path.join(data_folder, vpta_csv_file_name)\n",
    "vptc_csv_file_name = \"denominations-des-voies-caduques.csv\"\n",
    "vptc_csv_file = os.path.join(data_folder, vptc_csv_file_name)\n",
    "\n",
    "# TTL file for structuring knowledge of the Paris thoroughfares\n",
    "vpt_kg_file_name = \"voies_paris.ttl\"\n",
    "vpt_kg_file = os.path.join(tmp_folder, vpt_kg_file_name)\n",
    "\n",
    "# Final TTL files for Ville de Paris factoids\n",
    "vpt_factoids_kg_file_name = \"vpt_factoids.ttl\"\n",
    "vpt_factoids_kg_file = os.path.join(tmp_folder, vpt_factoids_kg_file_name)\n",
    "vpt_permanent_kg_file_name = \"vpt_permanent.ttl\"\n",
    "vpt_permanent_kg_file = os.path.join(tmp_folder, vpt_permanent_kg_file_name)\n",
    "\n",
    "# Time interval of validity of the source (there is not end time)\n",
    "vpt_valid_time = {\n",
    "    \"start_time\" : {\"stamp\":\"2024-02-10T00:00:00Z\",\"precision\":\"day\",\"calendar\":\"gregorian\"},\n",
    "    \"end_time\" : {\"stamp\":tp.get_current_timestamp(),\"precision\":\"day\",\"calendar\":\"gregorian\"}\n",
    "    }"
   ]
  },
  {
   "cell_type": "markdown",
   "metadata": {},
   "source": [
    "### Base Adresse Nationale (BAN)"
   ]
  },
  {
   "cell_type": "markdown",
   "metadata": {},
   "source": [
    "Data from the [Base Adresse Nationale (BAN)](https://adresse.data.gouv.fr/base-adresse-nationale) (National Address Base), available [here](https://adresse.data.gouv.fr/data/ban/adresses/latest/csv)\n",
    "\n",
    "bpa` for ‘BAN paris addresses’"
   ]
  },
  {
   "cell_type": "code",
   "execution_count": null,
   "metadata": {},
   "outputs": [],
   "source": [
    "# Name of the directory where the factoid triples of BAN data are stored and constructed\n",
    "bpa_repository_name = \"factoids_ban\"\n",
    "\n",
    "# CSV file containting data\n",
    "bpa_csv_file_name = \"ban_adresses.csv\"\n",
    "bpa_csv_file = os.path.join(data_folder, bpa_csv_file_name)\n",
    "\n",
    "# TTL file for structuring knowledge of Paris addresses\n",
    "bpa_kg_file_name = \"ban_adresses.ttl\"\n",
    "bpa_kg_file = os.path.join(tmp_folder, bpa_kg_file_name)\n",
    "\n",
    "# Final TTL file for BAN factoids\n",
    "bpa_factoids_kg_file_name = \"ban_factoids.ttl\"\n",
    "bpa_factoids_kg_file = os.path.join(tmp_folder, bpa_factoids_kg_file_name)\n",
    "bpa_permanent_kg_file_name = \"ban_permanent.ttl\"\n",
    "bpa_permanent_kg_file = os.path.join(tmp_folder, bpa_permanent_kg_file_name)\n",
    "\n",
    "# Time interval of validity of the source (there is not end time)\n",
    "bpa_valid_time = {\n",
    "    \"start_time\" : {\"stamp\":\"2024-01-01T00:00:00Z\",\"precision\":\"day\",\"calendar\":\"gregorian\"},\n",
    "    \"end_time\" : {\"stamp\":tp.get_current_timestamp(),\"precision\":\"day\",\"calendar\":\"gregorian\"}\n",
    "    }"
   ]
  },
  {
   "cell_type": "markdown",
   "metadata": {},
   "source": [
    "### OpenStreetMap (OSM)"
   ]
  },
  {
   "cell_type": "markdown",
   "metadata": {},
   "source": [
    "Extracting data from OpenStreetMap"
   ]
  },
  {
   "cell_type": "code",
   "execution_count": null,
   "metadata": {},
   "outputs": [],
   "source": [
    "# Name of the directory where the factoid triples of OSM data are stored and constructed\n",
    "osm_repository_name = \"factoids_osm\"\n",
    "\n",
    "# CSV files containting data\n",
    "osm_csv_file_name = \"osm_adresses.csv\"\n",
    "osm_csv_file = os.path.join(data_folder, osm_csv_file_name)\n",
    "osm_hn_csv_file_name = \"osm_hn_adresses.csv\"\n",
    "osm_hn_csv_file = os.path.join(data_folder, osm_hn_csv_file_name)\n",
    "\n",
    "# TTL file for structuring knowledge of OSM addresses\n",
    "osm_kg_file_name = \"osm_adresses.ttl\"\n",
    "osm_kg_file = os.path.join(tmp_folder, osm_kg_file_name)\n",
    "\n",
    "# Final TTL files for OSM factoids\n",
    "osm_factoids_kg_file_name = \"osm_factoids.ttl\"\n",
    "osm_factoids_kg_file = os.path.join(tmp_folder, osm_factoids_kg_file_name)\n",
    "osm_permanent_kg_file_name = \"osm_permanent.ttl\"\n",
    "osm_permanent_kg_file = os.path.join(tmp_folder, osm_permanent_kg_file_name)\n",
    "\n",
    "# Time interval of validity of the source (there is not end time)\n",
    "osm_valid_time = {\n",
    "    \"start_time\" : {\"stamp\":\"2024-01-01T00:00:00Z\",\"precision\":\"day\",\"calendar\":\"gregorian\"},\n",
    "    \"end_time\" : {\"stamp\":tp.get_current_timestamp(),\"precision\":\"day\",\"calendar\":\"gregorian\"}\n",
    "    }"
   ]
  },
  {
   "cell_type": "markdown",
   "metadata": {},
   "source": [
    "### Integration of data from Geojson files"
   ]
  },
  {
   "cell_type": "markdown",
   "metadata": {},
   "source": [
    "These files are derived from the vectorisation of maps of Paris:\n",
    "* the revised Napoleonic cadatre of 1847 ;\n",
    "* Andriveau’ plan of 1849 ;\n",
    "* municipal plot plan of 1871 ;\n",
    "* the Municipal Atlas map of 1888."
   ]
  },
  {
   "cell_type": "markdown",
   "metadata": {},
   "source": [
    "#### Global variables for importing data from Geojson files"
   ]
  },
  {
   "cell_type": "code",
   "execution_count": null,
   "metadata": {},
   "outputs": [],
   "source": [
    "lang = \"fr\"\n",
    "landmark_type = \"Thoroughfare\"\n",
    "geojson_join_property = \"name\"\n",
    "tmp_kg_file_name = \"tmp_kg.ttl\"\n",
    "tmp_kg_file = os.path.join(tmp_folder, tmp_kg_file_name)"
   ]
  },
  {
   "cell_type": "markdown",
   "metadata": {},
   "source": [
    "#### Napoleonic cadastre of 1847"
   ]
  },
  {
   "cell_type": "code",
   "execution_count": null,
   "metadata": {},
   "outputs": [],
   "source": [
    "# Name of the directory where data factoid triples are stored and constructed\n",
    "cn_1847_repository_name = \"factoids_1847_cadastre_nap\"\n",
    "\n",
    "# Geojson file containting data\n",
    "cn_1847_geojson_file_name = \"1847_cadastre_nap.geojson\"\n",
    "cn_1847_geojson_file = os.path.join(data_folder, cn_1847_geojson_file_name)\n",
    "cn_1847_kg_file_name = \"cn_1847_kg.ttl\"\n",
    "cn_1847_kg_file = os.path.join(tmp_folder, cn_1847_kg_file_name)\n",
    "\n",
    "# Final TTL files of factoids from the revised 1847 Napoleonic cadastre\n",
    "cn_1847_factoids_kg_file_name = \"cn_1847_factoids.ttl\"\n",
    "cn_1847_factoids_kg_file = os.path.join(tmp_folder, cn_1847_factoids_kg_file_name)\n",
    "cn_1847_permanent_kg_file_name = \"cn_1847_permanent.ttl\"\n",
    "cn_1847_permanent_kg_file = os.path.join(tmp_folder, cn_1847_permanent_kg_file_name)\n",
    "\n",
    "cn_1847_geojson = fm.read_json_file(cn_1847_geojson_file)\n",
    "\n",
    "# Description of the source within a dictionary\n",
    "cn_1847_source_desc = {\n",
    "    \"lang\" : \"fr\", \n",
    "    \"label\" : \"Cadastre napoléonien de Gentilly de 1847\",\n",
    "    \"publisher\" : {\n",
    "        \"label\": \"Empire français\"\n",
    "        }\n",
    "}\n",
    "\n",
    "# Time interval of validity of the source\n",
    "cn_1847_valid_time = {\n",
    "    \"start_time\" : {\"stamp\":\"1845-01-01T00:00:00Z\",\"precision\":\"year\",\"calendar\":\"gregorian\"},\n",
    "    \"end_time\" : {\"stamp\":\"1850-01-01T00:00:00Z\",\"precision\":\"year\",\"calendar\":\"gregorian\"},\n",
    "}\n",
    "cn_1847_geojson[\"source\"] = cn_1847_source_desc\n",
    "cn_1847_geojson[\"time\"] = cn_1847_valid_time"
   ]
  },
  {
   "cell_type": "markdown",
   "metadata": {},
   "source": [
    "#### Andriveau atlas"
   ]
  },
  {
   "cell_type": "code",
   "execution_count": null,
   "metadata": {},
   "outputs": [],
   "source": [
    "# Name of the directory where data factoid triples are stored and constructed\n",
    "an_1849_repository_name = \"factoids_1849_andriveau\"\n",
    "\n",
    "# Geojson file containting data\n",
    "an_1849_geojson_file_name = \"1849_andriveau.geojson\"\n",
    "an_1849_geojson_file = os.path.join(data_folder, an_1849_geojson_file_name)\n",
    "an_1849_kg_file_name = \"an_1849_kg.ttl\"\n",
    "an_1849_kg_file = os.path.join(tmp_folder, an_1849_kg_file_name)\n",
    "\n",
    "# Final TTL files of factoids from the 1849 Andriveau atlas\n",
    "an_1849_factoids_kg_file_name = \"an_1849_factoids.ttl\"\n",
    "an_1849_factoids_kg_file = os.path.join(tmp_folder, an_1849_factoids_kg_file_name)\n",
    "an_1849_permanent_kg_file_name = \"an_1849_permanent.ttl\"\n",
    "an_1849_permanent_kg_file = os.path.join(tmp_folder, an_1849_permanent_kg_file_name)\n",
    "\n",
    "an_1849_geojson = fm.read_json_file(an_1849_geojson_file)\n",
    "\n",
    "# Description of the source within a dictionary\n",
    "an_1849_source_desc = {\n",
    "    \"lang\" : \"fr\", \n",
    "    \"label\" : \"Plan d'Andriveau de 1849\",\n",
    "    \"publisher\" : {\n",
    "        \"label\": \"Andriveau\"\n",
    "        }\n",
    "}\n",
    "\n",
    "# Time interval of validity of the source\n",
    "an_1849_valid_time = {\n",
    "    \"start_time\" : {\"stamp\":\"1847-01-01T00:00:00Z\",\"precision\":\"year\",\"calendar\":\"gregorian\"},\n",
    "    \"end_time\" : {\"stamp\":\"1851-01-01T00:00:00Z\",\"precision\":\"year\",\"calendar\":\"gregorian\"},\n",
    "}\n",
    "\n",
    "an_1849_geojson[\"source\"] = an_1849_source_desc\n",
    "an_1849_geojson[\"time\"] = an_1849_valid_time"
   ]
  },
  {
   "cell_type": "markdown",
   "metadata": {},
   "source": [
    "#### 1871 municipal parcel map of Paris"
   ]
  },
  {
   "cell_type": "code",
   "execution_count": null,
   "metadata": {},
   "outputs": [],
   "source": [
    "# Name of the directory where data factoid triples are stored and constructed\n",
    "pm_1871_repository_name = \"factoids_1871_plan_parcellaire_mun\"\n",
    "\n",
    "# Geojson file containting data\n",
    "pm_1871_geojson_file_name = \"1871_plan_parcellaire_mun.geojson\"\n",
    "pm_1871_geojson_file = os.path.join(data_folder, pm_1871_geojson_file_name)\n",
    "pm_1871_kg_file_name = \"pm_1871_kg.ttl\"\n",
    "pm_1871_kg_file = os.path.join(tmp_folder, pm_1871_kg_file_name)\n",
    "\n",
    "# Final TTL file of factoids from the 1871 municipal parcel map\n",
    "pm_1871_factoids_kg_file_name = \"pm_1871_factoids.ttl\"\n",
    "pm_1871_factoids_kg_file = os.path.join(tmp_folder, pm_1871_factoids_kg_file_name)\n",
    "pm_1871_permanent_kg_file_name = \"pm_1871_permanent.ttl\"\n",
    "pm_1871_permanent_kg_file = os.path.join(tmp_folder, pm_1871_permanent_kg_file_name)\n",
    "\n",
    "pm_1871_geojson = fm.read_json_file(pm_1871_geojson_file)\n",
    "\n",
    "# Description of the source within a dictionary\n",
    "pm_1871_source_desc = {\n",
    "    \"lang\" : \"fr\",\n",
    "    \"label\" : \"Plan parcellaire municipal\",\n",
    "    \"publisher\" : {\n",
    "        \"label\": \"IIIe République\"\n",
    "        }\n",
    "}\n",
    "\n",
    "# Time interval of validity of the source\n",
    "pm_1871_valid_time = {\n",
    "    \"start_time\" : {\"stamp\":\"1870-01-01T00:00:00Z\",\"precision\":\"year\",\"calendar\":\"gregorian\"},\n",
    "    \"end_time\" : {\"stamp\":\"1872-01-01T00:00:00Z\",\"precision\":\"year\",\"calendar\":\"gregorian\"},\n",
    "}\n",
    "pm_1871_geojson[\"source\"] = pm_1871_source_desc\n",
    "pm_1871_geojson[\"time\"] = pm_1871_valid_time"
   ]
  },
  {
   "cell_type": "markdown",
   "metadata": {},
   "source": [
    "#### 1888 Municipal Atlas of Paris"
   ]
  },
  {
   "cell_type": "code",
   "execution_count": null,
   "metadata": {},
   "outputs": [],
   "source": [
    "# Name of the directory where data factoid triples are stored and constructed\n",
    "am_1888_repository_name = \"factoids_1888_atlas_municipal\"\n",
    "\n",
    "# Geojson file containting data\n",
    "am_1888_geojson_file_name = \"1888_atlas_municipal.geojson\"\n",
    "am_1888_geojson_file = os.path.join(data_folder, am_1888_geojson_file_name)\n",
    "am_1888_kg_file_name = \"am_1888_kg.ttl\"\n",
    "am_1888_kg_file = os.path.join(tmp_folder, am_1888_kg_file_name)\n",
    "\n",
    "# Final TTL file of factoids from the 1888 Municipal Atlas plan\n",
    "am_1888_factoids_kg_file_name = \"am_1888_factoids.ttl\"\n",
    "am_1888_factoids_kg_file = os.path.join(tmp_folder, am_1888_factoids_kg_file_name)\n",
    "am_1888_permanent_kg_file_name = \"am_1888_permanent.ttl\"\n",
    "am_1888_permanent_kg_file = os.path.join(tmp_folder, am_1888_permanent_kg_file_name)\n",
    "\n",
    "am_1888_geojson = fm.read_json_file(am_1888_geojson_file)\n",
    "\n",
    "# Description of the source within a dictionary\n",
    "am_1888_source_desc = {\n",
    "    \"lang\" : \"fr\", \n",
    "    \"label\" : \"Plan de l'atlas municipal de 1888\",\n",
    "    \"publisher\" : {\n",
    "        \"label\": \"Ville de Paris\"\n",
    "        }\n",
    "}\n",
    "\n",
    "# Time interval of validity of the source\n",
    "am_1888_valid_time = {\n",
    "    \"start_time\" : {\"stamp\":\"1887-01-01T00:00:00Z\",\"precision\":\"year\",\"calendar\":\"gregorian\"},\n",
    "    \"end_time\" : {\"stamp\":\"1889-01-01T00:00:00Z\",\"precision\":\"year\",\"calendar\":\"gregorian\"},\n",
    "}\n",
    "am_1888_geojson[\"source\"] = am_1888_source_desc\n",
    "am_1888_geojson[\"time\"] = am_1888_valid_time"
   ]
  },
  {
   "cell_type": "markdown",
   "metadata": {},
   "source": [
    "### Events"
   ]
  },
  {
   "cell_type": "markdown",
   "metadata": {},
   "source": [
    "TTL file describings events"
   ]
  },
  {
   "cell_type": "code",
   "execution_count": null,
   "metadata": {},
   "outputs": [],
   "source": [
    "# Name of the directory where the factoid triples of events data are stored and constructed\n",
    "events_repository_name = \"factoids_events\"\n",
    "\n",
    "# Event file containting data\n",
    "events_json_file_name = \"events.json\"\n",
    "events_json_file = os.path.join(data_folder, events_json_file_name)\n",
    "\n",
    "# Final TTL file of factoids from events\n",
    "events_ttl_file_name = \"events.ttl\"\n",
    "events_ttl_file = os.path.join(tmp_folder, events_ttl_file_name)\n",
    "\n",
    "# Final TTL files for events factoids\n",
    "events_factoids_kg_file_name = \"events_factoids.ttl\"\n",
    "events_factoids_kg_file = os.path.join(tmp_folder, events_factoids_kg_file_name)\n",
    "events_permanent_kg_file_name = \"events_permanent.ttl\"\n",
    "events_permanent_kg_file = os.path.join(tmp_folder, events_permanent_kg_file_name)"
   ]
  },
  {
   "cell_type": "markdown",
   "metadata": {},
   "source": [
    "## Final and iterative process"
   ]
  },
  {
   "cell_type": "markdown",
   "metadata": {},
   "source": [
    "### Creating factoids in directories"
   ]
  },
  {
   "cell_type": "markdown",
   "metadata": {},
   "source": [
    "For each source, factoids are created independently in separate directories"
   ]
  },
  {
   "cell_type": "markdown",
   "metadata": {},
   "source": [
    "#### Ville de Paris\n"
   ]
  },
  {
   "cell_type": "code",
   "execution_count": null,
   "metadata": {},
   "outputs": [],
   "source": [
    "# fc.create_factoids_repository_ville_paris(graphdb_url, vpt_repository_name, tmp_folder,\n",
    "#                                           ont_file, ontology_named_graph_name,\n",
    "#                                           factoids_named_graph_name, permanent_named_graph_name,\n",
    "#                                           vpta_csv_file, vptc_csv_file, vpt_kg_file, vpt_valid_time, lang=lang)"
   ]
  },
  {
   "cell_type": "markdown",
   "metadata": {},
   "source": [
    "####  BAN\n"
   ]
  },
  {
   "cell_type": "code",
   "execution_count": null,
   "metadata": {},
   "outputs": [],
   "source": [
    "# fc.create_factoids_repository_ban(graphdb_url, bpa_repository_name, tmp_folder,\n",
    "#                                   ont_file, ontology_named_graph_name,\n",
    "#                                   factoids_named_graph_name, permanent_named_graph_name,\n",
    "#                                   bpa_csv_file, bpa_kg_file, bpa_valid_time, lang=lang)"
   ]
  },
  {
   "cell_type": "markdown",
   "metadata": {},
   "source": [
    "#### Wikidata\n"
   ]
  },
  {
   "cell_type": "code",
   "execution_count": null,
   "metadata": {},
   "outputs": [],
   "source": [
    "# # fc.get_data_from_wikidata(wdp_land_csv_file, wdp_loc_csv_file)\n",
    "# fc.create_factoids_repository_wikidata_paris(graphdb_url, wd_repository_name, tmp_folder,\n",
    "#                                              ont_file, ontology_named_graph_name,\n",
    "#                                              factoids_named_graph_name, permanent_named_graph_name,\n",
    "#                                              wdp_land_csv_file, wdp_loc_csv_file, wdp_kg_file, wdp_valid_time=wdp_valid_time, lang=lang)"
   ]
  },
  {
   "cell_type": "markdown",
   "metadata": {},
   "source": [
    "#### OSM"
   ]
  },
  {
   "cell_type": "code",
   "execution_count": null,
   "metadata": {},
   "outputs": [],
   "source": [
    "# fc.create_factoids_repository_osm(graphdb_url, osm_repository_name, tmp_folder,\n",
    "#                                   ont_file, ontology_named_graph_name,\n",
    "#                                   factoids_named_graph_name, permanent_named_graph_name,\n",
    "#                                   osm_csv_file, osm_hn_csv_file, osm_kg_file, osm_valid_time=osm_valid_time, lang=lang)"
   ]
  },
  {
   "cell_type": "markdown",
   "metadata": {},
   "source": [
    "#### Data from Geojson files"
   ]
  },
  {
   "cell_type": "markdown",
   "metadata": {},
   "source": [
    "* Napoleonic cadastre of Gentilly (1847)\n",
    "* Andriveau plan (1849)\n",
    "* municipal parcel map of Paris (1871)\n",
    "* municipal map of Paris (1888)"
   ]
  },
  {
   "cell_type": "code",
   "execution_count": null,
   "metadata": {},
   "outputs": [],
   "source": [
    "# fc.create_factoids_repository_geojson_states(graphdb_url, cn_1847_repository_name, tmp_folder, ont_file, ontology_named_graph_name,\n",
    "#                                factoids_named_graph_name, permanent_named_graph_name, cn_1847_geojson, geojson_join_property, cn_1847_kg_file, tmp_kg_file, landmark_type, lang)\n",
    "# fc.create_factoids_repository_geojson_states(graphdb_url, an_1849_repository_name, tmp_folder, ont_file, ontology_named_graph_name,\n",
    "#                                factoids_named_graph_name, permanent_named_graph_name, an_1849_geojson, geojson_join_property, an_1849_kg_file, tmp_kg_file, landmark_type, lang)\n",
    "# fc.create_factoids_repository_geojson_states(graphdb_url, pm_1871_repository_name, tmp_folder, ont_file, ontology_named_graph_name,\n",
    "#                                factoids_named_graph_name, permanent_named_graph_name, pm_1871_geojson, geojson_join_property, pm_1871_kg_file, tmp_kg_file, landmark_type, lang)\n",
    "# fc.create_factoids_repository_geojson_states(graphdb_url, am_1888_repository_name, tmp_folder, ont_file, ontology_named_graph_name,\n",
    "#                                factoids_named_graph_name, permanent_named_graph_name, am_1888_geojson, geojson_join_property, am_1888_kg_file, tmp_kg_file, landmark_type, lang)"
   ]
  },
  {
   "cell_type": "markdown",
   "metadata": {},
   "source": [
    "#### Data from Events files"
   ]
  },
  {
   "cell_type": "code",
   "execution_count": null,
   "metadata": {},
   "outputs": [],
   "source": [
    "# fc.create_factoids_repository_events(graphdb_url, events_repository_name, tmp_folder,\n",
    "#                                      events_json_file, events_ttl_file,\n",
    "#                                      ont_file, ontology_named_graph_name,\n",
    "#                                      factoids_named_graph_name, permanent_named_graph_name)"
   ]
  },
  {
   "cell_type": "markdown",
   "metadata": {},
   "source": [
    "### Insertion of factoids in the fact graph"
   ]
  },
  {
   "cell_type": "code",
   "execution_count": null,
   "metadata": {},
   "outputs": [],
   "source": [
    "gd.remove_named_graph(graphdb_url, facts_repository_name, facts_named_graph_name)\n",
    "gd.remove_named_graph(graphdb_url, facts_repository_name, inter_sources_name_graph_name)"
   ]
  },
  {
   "cell_type": "markdown",
   "metadata": {},
   "source": [
    "#### Ville de Paris"
   ]
  },
  {
   "cell_type": "code",
   "execution_count": null,
   "metadata": {},
   "outputs": [],
   "source": [
    "named_graph_name = \"source_ville_de_paris\"\n",
    "rt.transfert_factoids_to_facts_repository(graphdb_url, facts_repository_name, vpt_repository_name,\n",
    "                                           vpt_factoids_kg_file, vpt_permanent_kg_file,\n",
    "                                           factoids_named_graph_name, permanent_named_graph_name, named_graph_name, facts_named_graph_name)\n",
    "msp.import_factoids_in_facts(graphdb_url, facts_repository_name, named_graph_name, facts_named_graph_name, inter_sources_name_graph_name)"
   ]
  },
  {
   "cell_type": "markdown",
   "metadata": {},
   "source": [
    "#### Wikidata"
   ]
  },
  {
   "cell_type": "code",
   "execution_count": null,
   "metadata": {},
   "outputs": [],
   "source": [
    "named_graph_name = \"source_wikidata\"\n",
    "rt.transfert_factoids_to_facts_repository(graphdb_url, facts_repository_name, wd_repository_name,\n",
    "                                           wdp_factoids_kg_file, wdp_permanent_kg_file,\n",
    "                                           factoids_named_graph_name, permanent_named_graph_name, named_graph_name, facts_named_graph_name)\n",
    "msp.import_factoids_in_facts(graphdb_url, facts_repository_name, named_graph_name, facts_named_graph_name, inter_sources_name_graph_name)"
   ]
  },
  {
   "cell_type": "markdown",
   "metadata": {},
   "source": [
    "#### BAN"
   ]
  },
  {
   "cell_type": "code",
   "execution_count": null,
   "metadata": {},
   "outputs": [],
   "source": [
    "named_graph_name = \"source_ban\"\n",
    "rt.transfert_factoids_to_facts_repository(graphdb_url, facts_repository_name, bpa_repository_name,\n",
    "                                           bpa_factoids_kg_file, bpa_permanent_kg_file,\n",
    "                                           factoids_named_graph_name, permanent_named_graph_name, named_graph_name, facts_named_graph_name)\n",
    "msp.import_factoids_in_facts(graphdb_url, facts_repository_name, named_graph_name, facts_named_graph_name, inter_sources_name_graph_name)"
   ]
  },
  {
   "cell_type": "markdown",
   "metadata": {},
   "source": [
    "#### OSM"
   ]
  },
  {
   "cell_type": "code",
   "execution_count": null,
   "metadata": {},
   "outputs": [],
   "source": [
    "named_graph_name = \"source_osm\"\n",
    "rt.transfert_factoids_to_facts_repository(graphdb_url, facts_repository_name, osm_repository_name,\n",
    "                                           osm_factoids_kg_file, osm_permanent_kg_file,\n",
    "                                           factoids_named_graph_name, permanent_named_graph_name, named_graph_name, facts_named_graph_name)\n",
    "msp.import_factoids_in_facts(graphdb_url, facts_repository_name, named_graph_name, facts_named_graph_name, inter_sources_name_graph_name)"
   ]
  },
  {
   "cell_type": "markdown",
   "metadata": {},
   "source": [
    "#### Data from Geojson files"
   ]
  },
  {
   "cell_type": "markdown",
   "metadata": {},
   "source": [
    "* Napoleonic cadastre of Gentilly (1847)\n",
    "* Andriveau plan (1849)\n",
    "* municipal parcel map of Paris (1871)\n",
    "* municipal map of Paris (1888)"
   ]
  },
  {
   "cell_type": "code",
   "execution_count": null,
   "metadata": {},
   "outputs": [],
   "source": [
    "named_graph_name = \"source_geojson\"\n",
    "\n",
    "rt.transfert_factoids_to_facts_repository(graphdb_url, facts_repository_name, cn_1847_repository_name,\n",
    "                                           cn_1847_factoids_kg_file, cn_1847_permanent_kg_file,\n",
    "                                           factoids_named_graph_name, permanent_named_graph_name, named_graph_name, facts_named_graph_name)\n",
    "\n",
    "rt.transfert_factoids_to_facts_repository(graphdb_url, facts_repository_name, an_1849_repository_name,\n",
    "                                           an_1849_factoids_kg_file, an_1849_permanent_kg_file,\n",
    "                                           factoids_named_graph_name, permanent_named_graph_name, named_graph_name, facts_named_graph_name)\n",
    "\n",
    "rt.transfert_factoids_to_facts_repository(graphdb_url, facts_repository_name, pm_1871_repository_name,\n",
    "                                           pm_1871_factoids_kg_file, pm_1871_permanent_kg_file,\n",
    "                                           factoids_named_graph_name, permanent_named_graph_name, named_graph_name, facts_named_graph_name)\n",
    "\n",
    "rt.transfert_factoids_to_facts_repository(graphdb_url, facts_repository_name, am_1888_repository_name,\n",
    "                                           am_1888_factoids_kg_file, am_1888_permanent_kg_file,\n",
    "                                           factoids_named_graph_name, permanent_named_graph_name, named_graph_name, facts_named_graph_name)\n",
    "\n",
    "msp.import_factoids_in_facts(graphdb_url, facts_repository_name, named_graph_name, facts_named_graph_name, inter_sources_name_graph_name)\n"
   ]
  },
  {
   "cell_type": "markdown",
   "metadata": {},
   "source": [
    "#### Data from Events files"
   ]
  },
  {
   "cell_type": "code",
   "execution_count": null,
   "metadata": {},
   "outputs": [],
   "source": [
    "named_graph_name = \"source_events\"\n",
    "\n",
    "rt.transfert_factoids_to_facts_repository(graphdb_url, facts_repository_name, events_repository_name,\n",
    "                                           events_factoids_kg_file, events_permanent_kg_file,\n",
    "                                           factoids_named_graph_name, permanent_named_graph_name, named_graph_name, facts_named_graph_name)\n",
    "msp.import_factoids_in_facts(graphdb_url, facts_repository_name, named_graph_name, facts_named_graph_name, inter_sources_name_graph_name)\n"
   ]
  },
  {
   "cell_type": "markdown",
   "metadata": {},
   "source": [
    "### Construction of entities evolution from multi-source data"
   ]
  },
  {
   "cell_type": "code",
   "execution_count": null,
   "metadata": {},
   "outputs": [],
   "source": [
    "order_named_graph_name = \"temporal_ordering\"\n",
    "\n",
    "facts_named_graph_uri = gd.get_named_graph_uri_from_name(graphdb_url, facts_repository_name, facts_named_graph_name)\n",
    "inter_sources_name_graph_uri = gd.get_named_graph_uri_from_name(graphdb_url, facts_repository_name, inter_sources_name_graph_name)\n",
    "tmp_named_graph_uri = gd.get_named_graph_uri_from_name(graphdb_url, facts_repository_name, tmp_named_graph_name)\n",
    "order_named_graph_uri = gd.get_named_graph_uri_from_name(graphdb_url, facts_repository_name, order_named_graph_name)"
   ]
  },
  {
   "cell_type": "markdown",
   "metadata": {},
   "source": [
    "#### Comparison of version values"
   ]
  },
  {
   "cell_type": "code",
   "execution_count": null,
   "metadata": {},
   "outputs": [],
   "source": [
    "comparison_settings = {\n",
    "    \"geom_similarity_coef\": 0.85,\n",
    "    \"geom_buffer_radius\": 5,\n",
    "    \"geom_crs_uri\": URIRef('http://www.opengis.net/def/crs/EPSG/0/2154'),\n",
    "}\n",
    "comp_named_graph_name = \"comparisons\"\n",
    "comp_tmp_file_name = \"comparisons.ttl\"\n",
    "comp_tmp_file = os.path.join(tmp_folder, comp_tmp_file_name)\n",
    "avc.compare_attribute_versions(graphdb_url, facts_repository_name, comp_named_graph_name, comp_tmp_file, comparison_settings)"
   ]
  },
  {
   "cell_type": "markdown",
   "metadata": {},
   "source": [
    "#### Initialize missing landmark apperance and disapperance changes"
   ]
  },
  {
   "cell_type": "markdown",
   "metadata": {},
   "source": [
    "* After having imported all factoids, changes which describe the appearance and the disappearance of landmark mainly are not created as they don't exist in factoids named graph.\n",
    "* This step aims at initializing missing landmark apperance and disapperance changes and their related events for which we give an estimation the time at which it happened. We consider the appearance happened before the earliest time of reference of the landmark in sources. For the disapperance, it happened after the earliest time of reference."
   ]
  },
  {
   "cell_type": "code",
   "execution_count": null,
   "metadata": {},
   "outputs": [],
   "source": [
    "ec.initialize_missing_changes_and_events_for_landmarks(graphdb_url, facts_repository_name, facts_named_graph_uri, inter_sources_name_graph_uri, tmp_named_graph_uri)"
   ]
  },
  {
   "cell_type": "markdown",
   "metadata": {},
   "source": [
    "#### Split overlapping versions"
   ]
  },
  {
   "cell_type": "code",
   "execution_count": null,
   "metadata": {},
   "outputs": [],
   "source": [
    "gd.remove_named_graph_from_uri(tmp_named_graph_uri)\n",
    "ec.get_elementary_versions_and_changes(graphdb_url, facts_repository_name, facts_named_graph_uri, tmp_named_graph_uri)"
   ]
  },
  {
   "cell_type": "markdown",
   "metadata": {},
   "source": [
    "#### Get evolution from elementary elements\n",
    "\n",
    "Get the attribute version evolution from elementary versions and changes\n",
    "* remove empty attribute versions\n",
    "    * versions not related to any trace\n",
    "    * versions which changes are not related to any trace\n",
    "* merge successive attribute versions which are similar"
   ]
  },
  {
   "cell_type": "code",
   "execution_count": null,
   "metadata": {},
   "outputs": [],
   "source": [
    "ec.get_attribute_version_evolution_from_elementary_elements(graphdb_url, facts_repository_name,\n",
    "                                                            facts_named_graph_uri, inter_sources_name_graph_uri, tmp_named_graph_uri)\n",
    "\n",
    "# Remove temporary named graph (which is used for construction)\n",
    "gd.remove_named_graph_from_uri(tmp_named_graph_uri)"
   ]
  }
 ],
 "metadata": {
  "kernelspec": {
   "display_name": "Python 3",
   "language": "python",
   "name": "python3"
  },
  "language_info": {
   "codemirror_mode": {
    "name": "ipython",
    "version": 3
   },
   "file_extension": ".py",
   "mimetype": "text/x-python",
   "name": "python",
   "nbconvert_exporter": "python",
   "pygments_lexer": "ipython3",
   "version": "3.10.12"
  },
  "orig_nbformat": 4
 },
 "nbformat": 4,
 "nbformat_minor": 2
}
